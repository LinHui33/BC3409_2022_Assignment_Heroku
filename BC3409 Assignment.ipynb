{
 "cells": [
  {
   "cell_type": "markdown",
   "metadata": {},
   "source": [
    "# <font size=\"6\">BC3409 Assignment on Credit Card Default</font> \n",
    "Cloud Deployment: \n",
    "https://bc3409-2022-assignment-linhui.herokuapp.com/"
   ]
  },
  {
   "cell_type": "markdown",
   "metadata": {},
   "source": [
    "The purpose of this assignment is to predict the likelihood of credit card default for customers using 5 machine learning models, namely Logistic Regression, CART Model, Random Forest, XGBoost, and Neural Network MLP. \n",
    "\n",
    "The dataset contains information on 4 variables, including the income, age, loan as well as the outcome on whether the customer default or not."
   ]
  },
  {
   "cell_type": "markdown",
   "metadata": {},
   "source": [
    "# 1. Import the dataset using pandas"
   ]
  },
  {
   "cell_type": "code",
   "execution_count": 1,
   "metadata": {},
   "outputs": [],
   "source": [
    "import pandas as pd"
   ]
  },
  {
   "cell_type": "code",
   "execution_count": 2,
   "metadata": {},
   "outputs": [],
   "source": [
    "df = pd.read_csv(\"Credit Card Default II (balance).csv\")"
   ]
  },
  {
   "cell_type": "markdown",
   "metadata": {},
   "source": [
    "# 2. Exploratory data analysis\n",
    "To better understand the data before building the models, I performed an exploratory data analysis (EDA) to detect any missing values, outliers and understand the correlation between the X variables."
   ]
  },
  {
   "cell_type": "code",
   "execution_count": 3,
   "metadata": {},
   "outputs": [
    {
     "data": {
      "text/html": [
       "<div>\n",
       "<style scoped>\n",
       "    .dataframe tbody tr th:only-of-type {\n",
       "        vertical-align: middle;\n",
       "    }\n",
       "\n",
       "    .dataframe tbody tr th {\n",
       "        vertical-align: top;\n",
       "    }\n",
       "\n",
       "    .dataframe thead th {\n",
       "        text-align: right;\n",
       "    }\n",
       "</style>\n",
       "<table border=\"1\" class=\"dataframe\">\n",
       "  <thead>\n",
       "    <tr style=\"text-align: right;\">\n",
       "      <th></th>\n",
       "      <th>count</th>\n",
       "      <th>mean</th>\n",
       "      <th>std</th>\n",
       "      <th>min</th>\n",
       "      <th>25%</th>\n",
       "      <th>50%</th>\n",
       "      <th>75%</th>\n",
       "      <th>max</th>\n",
       "    </tr>\n",
       "  </thead>\n",
       "  <tbody>\n",
       "    <tr>\n",
       "      <th>income</th>\n",
       "      <td>3428.0</td>\n",
       "      <td>45136.875975</td>\n",
       "      <td>14425.486619</td>\n",
       "      <td>20014.48947</td>\n",
       "      <td>32827.211177</td>\n",
       "      <td>45546.632873</td>\n",
       "      <td>57514.794130</td>\n",
       "      <td>69995.685580</td>\n",
       "    </tr>\n",
       "    <tr>\n",
       "      <th>age</th>\n",
       "      <td>3428.0</td>\n",
       "      <td>34.795950</td>\n",
       "      <td>12.840055</td>\n",
       "      <td>-52.42328</td>\n",
       "      <td>25.171939</td>\n",
       "      <td>30.086842</td>\n",
       "      <td>44.369461</td>\n",
       "      <td>63.971796</td>\n",
       "    </tr>\n",
       "    <tr>\n",
       "      <th>loan</th>\n",
       "      <td>3428.0</td>\n",
       "      <td>5591.986695</td>\n",
       "      <td>3174.522430</td>\n",
       "      <td>1.37763</td>\n",
       "      <td>3103.357467</td>\n",
       "      <td>5540.305046</td>\n",
       "      <td>7809.377943</td>\n",
       "      <td>13766.051240</td>\n",
       "    </tr>\n",
       "    <tr>\n",
       "      <th>default</th>\n",
       "      <td>3428.0</td>\n",
       "      <td>0.500000</td>\n",
       "      <td>0.500073</td>\n",
       "      <td>0.00000</td>\n",
       "      <td>0.000000</td>\n",
       "      <td>0.500000</td>\n",
       "      <td>1.000000</td>\n",
       "      <td>1.000000</td>\n",
       "    </tr>\n",
       "  </tbody>\n",
       "</table>\n",
       "</div>"
      ],
      "text/plain": [
       "          count          mean           std          min           25%  \\\n",
       "income   3428.0  45136.875975  14425.486619  20014.48947  32827.211177   \n",
       "age      3428.0     34.795950     12.840055    -52.42328     25.171939   \n",
       "loan     3428.0   5591.986695   3174.522430      1.37763   3103.357467   \n",
       "default  3428.0      0.500000      0.500073      0.00000      0.000000   \n",
       "\n",
       "                  50%           75%           max  \n",
       "income   45546.632873  57514.794130  69995.685580  \n",
       "age         30.086842     44.369461     63.971796  \n",
       "loan      5540.305046   7809.377943  13766.051240  \n",
       "default      0.500000      1.000000      1.000000  "
      ]
     },
     "execution_count": 3,
     "metadata": {},
     "output_type": "execute_result"
    }
   ],
   "source": [
    "df.describe().T"
   ]
  },
  {
   "cell_type": "markdown",
   "metadata": {},
   "source": [
    "## 2.1 Change the negative value from Age column to positive\n",
    "Notice that there is negative values in \"age\" column.\n",
    "I assume that they have accidentally key in the \"-\" sign\n",
    "So, I changed the values of the “age” column to positive as it contained negative values which does not make sense.\n"
   ]
  },
  {
   "cell_type": "code",
   "execution_count": 4,
   "metadata": {},
   "outputs": [],
   "source": [
    "df['age'] = abs(df['age'])"
   ]
  },
  {
   "cell_type": "code",
   "execution_count": 5,
   "metadata": {},
   "outputs": [
    {
     "data": {
      "text/html": [
       "<div>\n",
       "<style scoped>\n",
       "    .dataframe tbody tr th:only-of-type {\n",
       "        vertical-align: middle;\n",
       "    }\n",
       "\n",
       "    .dataframe tbody tr th {\n",
       "        vertical-align: top;\n",
       "    }\n",
       "\n",
       "    .dataframe thead th {\n",
       "        text-align: right;\n",
       "    }\n",
       "</style>\n",
       "<table border=\"1\" class=\"dataframe\">\n",
       "  <thead>\n",
       "    <tr style=\"text-align: right;\">\n",
       "      <th></th>\n",
       "      <th>count</th>\n",
       "      <th>mean</th>\n",
       "      <th>std</th>\n",
       "      <th>min</th>\n",
       "      <th>25%</th>\n",
       "      <th>50%</th>\n",
       "      <th>75%</th>\n",
       "      <th>max</th>\n",
       "    </tr>\n",
       "  </thead>\n",
       "  <tbody>\n",
       "    <tr>\n",
       "      <th>income</th>\n",
       "      <td>3428.0</td>\n",
       "      <td>45136.875975</td>\n",
       "      <td>14425.486619</td>\n",
       "      <td>20014.489470</td>\n",
       "      <td>32827.211177</td>\n",
       "      <td>45546.632873</td>\n",
       "      <td>57514.794130</td>\n",
       "      <td>69995.685580</td>\n",
       "    </tr>\n",
       "    <tr>\n",
       "      <th>age</th>\n",
       "      <td>3428.0</td>\n",
       "      <td>34.864292</td>\n",
       "      <td>12.653256</td>\n",
       "      <td>18.055189</td>\n",
       "      <td>25.187842</td>\n",
       "      <td>30.107024</td>\n",
       "      <td>44.387971</td>\n",
       "      <td>63.971796</td>\n",
       "    </tr>\n",
       "    <tr>\n",
       "      <th>loan</th>\n",
       "      <td>3428.0</td>\n",
       "      <td>5591.986695</td>\n",
       "      <td>3174.522430</td>\n",
       "      <td>1.377630</td>\n",
       "      <td>3103.357467</td>\n",
       "      <td>5540.305046</td>\n",
       "      <td>7809.377943</td>\n",
       "      <td>13766.051240</td>\n",
       "    </tr>\n",
       "    <tr>\n",
       "      <th>default</th>\n",
       "      <td>3428.0</td>\n",
       "      <td>0.500000</td>\n",
       "      <td>0.500073</td>\n",
       "      <td>0.000000</td>\n",
       "      <td>0.000000</td>\n",
       "      <td>0.500000</td>\n",
       "      <td>1.000000</td>\n",
       "      <td>1.000000</td>\n",
       "    </tr>\n",
       "  </tbody>\n",
       "</table>\n",
       "</div>"
      ],
      "text/plain": [
       "          count          mean           std           min           25%  \\\n",
       "income   3428.0  45136.875975  14425.486619  20014.489470  32827.211177   \n",
       "age      3428.0     34.864292     12.653256     18.055189     25.187842   \n",
       "loan     3428.0   5591.986695   3174.522430      1.377630   3103.357467   \n",
       "default  3428.0      0.500000      0.500073      0.000000      0.000000   \n",
       "\n",
       "                  50%           75%           max  \n",
       "income   45546.632873  57514.794130  69995.685580  \n",
       "age         30.107024     44.387971     63.971796  \n",
       "loan      5540.305046   7809.377943  13766.051240  \n",
       "default      0.500000      1.000000      1.000000  "
      ]
     },
     "execution_count": 5,
     "metadata": {},
     "output_type": "execute_result"
    }
   ],
   "source": [
    "df.describe().T"
   ]
  },
  {
   "cell_type": "code",
   "execution_count": 6,
   "metadata": {},
   "outputs": [
    {
     "name": "stdout",
     "output_type": "stream",
     "text": [
      "<class 'pandas.core.frame.DataFrame'>\n",
      "RangeIndex: 3428 entries, 0 to 3427\n",
      "Data columns (total 4 columns):\n",
      "income     3428 non-null float64\n",
      "age        3428 non-null float64\n",
      "loan       3428 non-null float64\n",
      "default    3428 non-null int64\n",
      "dtypes: float64(3), int64(1)\n",
      "memory usage: 107.2 KB\n"
     ]
    }
   ],
   "source": [
    "df.info()"
   ]
  },
  {
   "cell_type": "markdown",
   "metadata": {},
   "source": [
    "## 2.2 Check if there is Na rows\n",
    "I checked for any missing data, and none were found. "
   ]
  },
  {
   "cell_type": "code",
   "execution_count": 7,
   "metadata": {},
   "outputs": [
    {
     "data": {
      "text/plain": [
       "income     0\n",
       "age        0\n",
       "loan       0\n",
       "default    0\n",
       "dtype: int64"
      ]
     },
     "execution_count": 7,
     "metadata": {},
     "output_type": "execute_result"
    }
   ],
   "source": [
    "df.isna().sum()"
   ]
  },
  {
   "cell_type": "markdown",
   "metadata": {},
   "source": [
    "## 2.3 Change the data type to its necessary form.\n",
    "Change Default column to string"
   ]
  },
  {
   "cell_type": "code",
   "execution_count": 8,
   "metadata": {},
   "outputs": [
    {
     "data": {
      "text/plain": [
       "income     float64\n",
       "age        float64\n",
       "loan       float64\n",
       "default     object\n",
       "dtype: object"
      ]
     },
     "execution_count": 8,
     "metadata": {},
     "output_type": "execute_result"
    }
   ],
   "source": [
    "data_types_dict = {'default': str}\n",
    "df = df.astype(data_types_dict)\n",
    "df.dtypes"
   ]
  },
  {
   "cell_type": "markdown",
   "metadata": {},
   "source": [
    "## 2.4 Assign Value to X and Y \n",
    "where Y is the \"default\" and X is the rest of the independent variables"
   ]
  },
  {
   "cell_type": "code",
   "execution_count": 9,
   "metadata": {},
   "outputs": [],
   "source": [
    "Y = df['default']\n",
    "X = df.iloc[:,0:3]"
   ]
  },
  {
   "cell_type": "markdown",
   "metadata": {},
   "source": [
    "## 2.5 Checking outliers for X variables\n",
    "I checked for any outliers, and none were found. "
   ]
  },
  {
   "cell_type": "code",
   "execution_count": 10,
   "metadata": {},
   "outputs": [
    {
     "data": {
      "text/plain": [
       "<matplotlib.axes._subplots.AxesSubplot at 0x24a6d7bb978>"
      ]
     },
     "execution_count": 10,
     "metadata": {},
     "output_type": "execute_result"
    }
   ],
   "source": [
    "X.income.plot.box()"
   ]
  },
  {
   "cell_type": "code",
   "execution_count": 11,
   "metadata": {},
   "outputs": [
    {
     "data": {
      "text/plain": [
       "<matplotlib.axes._subplots.AxesSubplot at 0x24a6dca9d68>"
      ]
     },
     "execution_count": 11,
     "metadata": {},
     "output_type": "execute_result"
    },
    {
     "data": {
      "image/png": "[encoded data removed]",
      "text/plain": [
       "<matplotlib.figure.Figure at 0x24a6dca9710>"
      ]
     },
     "metadata": {},
     "output_type": "display_data"
    }
   ],
   "source": [
    "X.age.plot.box()"
   ]
  },
  {
   "cell_type": "code",
   "execution_count": 12,
   "metadata": {},
   "outputs": [
    {
     "data": {
      "text/plain": [
       "<matplotlib.axes._subplots.AxesSubplot at 0x24a6dcbbc18>"
      ]
     },
     "execution_count": 12,
     "metadata": {},
     "output_type": "execute_result"
    },
    {
     "data": {
      "image/png": "[encoded data removed]",
      "text/plain": [
       "<matplotlib.figure.Figure at 0x24a6dcc8630>"
      ]
     },
     "metadata": {},
     "output_type": "display_data"
    }
   ],
   "source": [
    "X.loan.plot.box()"
   ]
  },
  {
   "cell_type": "markdown",
   "metadata": {},
   "source": [
    "## 2.6 Calculate VIF of X variables\n",
    "Notice that the VIF for all X variables are greater than 5 which means the variables are correlated to each other and the VIF income more 10. This may cause multicollinearity problem."
   ]
  },
  {
   "cell_type": "code",
   "execution_count": 13,
   "metadata": {},
   "outputs": [
    {
     "name": "stdout",
     "output_type": "stream",
     "text": [
      "  feature        VIF\n",
      "0  income  12.182478\n",
      "1     age   5.139367\n",
      "2    loan   6.212651\n"
     ]
    }
   ],
   "source": [
    "from statsmodels.stats.outliers_influence import variance_inflation_factor\n",
    "vif_data = pd.DataFrame()\n",
    "vif_data[\"feature\"] = X.columns\n",
    "vif_data[\"VIF\"] = [variance_inflation_factor(X.values, i) for i in range(len(X.columns))]\n",
    "print(vif_data)"
   ]
  },
  {
   "cell_type": "markdown",
   "metadata": {},
   "source": [
    "## 2.7 Heatmap for X variables\n",
    "Checking the correlation bewteen X variables"
   ]
  },
  {
   "cell_type": "code",
   "execution_count": 14,
   "metadata": {},
   "outputs": [
    {
     "data": {
      "text/plain": [
       "<matplotlib.axes._subplots.AxesSubplot at 0x24a7009a438>"
      ]
     },
     "execution_count": 14,
     "metadata": {},
     "output_type": "execute_result"
    },
    {
     "data": {
      "image/png": "[encoded data removed]",
      "text/plain": [
       "<matplotlib.figure.Figure at 0x24a6dd2e208>"
      ]
     },
     "metadata": {},
     "output_type": "display_data"
    }
   ],
   "source": [
    "import seaborn as sns\n",
    "sns.heatmap(df.corr(),annot = True)"
   ]
  },
  {
   "cell_type": "markdown",
   "metadata": {},
   "source": [
    "# 3. Split train and test dataset\n",
    "Split the data into a train (70%) and test (30%) sets where the random_state(set seed) is set to 10."
   ]
  },
  {
   "cell_type": "code",
   "execution_count": 15,
   "metadata": {},
   "outputs": [],
   "source": [
    "# random_state is set seed = 10\n",
    "from sklearn.model_selection import train_test_split\n",
    "x_train, x_test, y_train, y_test = train_test_split(X, Y, test_size=0.3, random_state=10)"
   ]
  },
  {
   "cell_type": "markdown",
   "metadata": {},
   "source": [
    "# 4. Linear Model - Logistic Regression\n",
    "We assume:\n",
    "1. Linear relationship between X and Y variables\n",
    "2. Independence between X variables\n",
    "3. Standard deviation of residuals is contant with mean equal to zero"
   ]
  },
  {
   "cell_type": "markdown",
   "metadata": {},
   "source": [
    "## 4.1 Build Logistic Regression"
   ]
  },
  {
   "cell_type": "code",
   "execution_count": 16,
   "metadata": {},
   "outputs": [],
   "source": [
    "from sklearn import linear_model\n",
    "log_model = linear_model.LogisticRegression()\n",
    "log_model.fit(x_train, y_train)\n",
    "log_model_pred = log_model.predict(x_test)"
   ]
  },
  {
   "cell_type": "markdown",
   "metadata": {},
   "source": [
    "## 4.2 Logistic Regression Accuracy and Confusion Matrix on Test Set"
   ]
  },
  {
   "cell_type": "code",
   "execution_count": 17,
   "metadata": {},
   "outputs": [
    {
     "name": "stdout",
     "output_type": "stream",
     "text": [
      "The accuracy of the model is: 84.65%\n"
     ]
    },
    {
     "data": {
      "image/png": "[encoded data removed]",
      "text/plain": [
       "<matplotlib.figure.Figure at 0x24a6bdb82e8>"
      ]
     },
     "metadata": {},
     "output_type": "display_data"
    }
   ],
   "source": [
    "from sklearn.metrics import confusion_matrix,ConfusionMatrixDisplay\n",
    "log_cm = confusion_matrix(y_test, log_model_pred, normalize='all')\n",
    "\n",
    "cmd = ConfusionMatrixDisplay(log_cm, display_labels=['No','Yes'])\n",
    "cmd.plot()\n",
    "cmd.ax_.set(title='Confusion Matrix for Logistic Regression', \n",
    "            xlabel='Predicted Default', \n",
    "            ylabel='Actual Default')\n",
    "accuracy = (log_cm[0,0]+log_cm[1,1])/sum(sum(log_cm))\n",
    "precision = (log_cm[1,1])/(log_cm[1,1]+log_cm[0,1])\n",
    "recall = (log_cm[1,1])/(log_cm[1,1]+log_cm[1,0])\n",
    "result_df = pd.DataFrame({'Model':\"Log Regression\", \n",
    "                          \"Accuracy\": accuracy,\n",
    "                          \"Precision\": precision, \"Recall\": recall},index=[0])\n",
    "\n",
    "print(\"The accuracy of the model is: \"+ str(round(accuracy*100,2))+ \"%\")"
   ]
  },
  {
   "cell_type": "markdown",
   "metadata": {},
   "source": [
    "## 4.3 Export the model using joblib"
   ]
  },
  {
   "cell_type": "code",
   "execution_count": 18,
   "metadata": {},
   "outputs": [
    {
     "data": {
      "text/plain": [
       "['log_model']"
      ]
     },
     "execution_count": 18,
     "metadata": {},
     "output_type": "execute_result"
    }
   ],
   "source": [
    "import joblib\n",
    "joblib.dump(log_model, \"log_model\")"
   ]
  },
  {
   "cell_type": "markdown",
   "metadata": {},
   "source": [
    "# 5. CART Model"
   ]
  },
  {
   "cell_type": "markdown",
   "metadata": {},
   "source": [
    "## 5.1 Create Validation Set\n",
    "Validation sets are used to select and tune the final trained model"
   ]
  },
  {
   "cell_type": "code",
   "execution_count": 19,
   "metadata": {},
   "outputs": [],
   "source": [
    "X_train1, X_validate, Y_train1, Y_validate = train_test_split(x_train, y_train, test_size=0.2,random_state=10)"
   ]
  },
  {
   "cell_type": "markdown",
   "metadata": {},
   "source": [
    "## 5.2 Optimise parameters for CART using GridSearchCV\n",
    "Tried to optimise max_depth and min_samples_split for CART model using GridSearchCV. \n",
    "Obtain the optimal value for this 2 parameters will try to prune the trees and avoid overfitting issues"
   ]
  },
  {
   "cell_type": "code",
   "execution_count": 20,
   "metadata": {},
   "outputs": [],
   "source": [
    "from sklearn import tree\n",
    "import math\n",
    "from sklearn.model_selection import GridSearchCV\n",
    "\n",
    "model = tree.DecisionTreeClassifier(random_state = 10)\n",
    "grid = GridSearchCV(estimator = model, param_grid = dict(max_depth = [i for i in range(1, 20)]))\n",
    "r= grid.fit(X_train1, Y_train1)\n",
    "max_depth = r.best_params_['max_depth']\n",
    "\n",
    "model = tree.DecisionTreeClassifier(max_depth= max_depth, random_state = 10)\n",
    "grid = GridSearchCV(estimator = model, param_grid = dict( min_samples_split = [i for i in range(3, 20)]))\n",
    "grid_results = grid.fit(X_train1, Y_train1)\n",
    "min_split = grid_results.best_params_['min_samples_split']"
   ]
  },
  {
   "cell_type": "markdown",
   "metadata": {},
   "source": [
    "## 5.3 Train model with optimal parameters"
   ]
  },
  {
   "cell_type": "code",
   "execution_count": 21,
   "metadata": {},
   "outputs": [],
   "source": [
    "cart_model = tree.DecisionTreeClassifier(max_depth=max_depth,min_samples_split = min_split)\n",
    "cart_model.fit(x_train, y_train)\n",
    "cart_model_pred = cart_model.predict(x_test)"
   ]
  },
  {
   "cell_type": "markdown",
   "metadata": {},
   "source": [
    "## 5.4 CART Accuracy and Confusion Matrix on Test Set"
   ]
  },
  {
   "cell_type": "code",
   "execution_count": 22,
   "metadata": {},
   "outputs": [
    {
     "name": "stdout",
     "output_type": "stream",
     "text": [
      "The accuracy of the model is: 98.64%\n"
     ]
    },
    {
     "data": {
      "image/png": "[encoded data removed]",
      "text/plain": [
       "<matplotlib.figure.Figure at 0x24a706a99b0>"
      ]
     },
     "metadata": {},
     "output_type": "display_data"
    }
   ],
   "source": [
    "cart_cm = confusion_matrix(y_test, cart_model_pred,normalize='all')\n",
    "cmd = ConfusionMatrixDisplay(cart_cm, display_labels=['No','Yes'])\n",
    "cmd.plot()\n",
    "cmd.ax_.set(title='Confusion Matrix for CART', \n",
    "            xlabel='Predicted Default', \n",
    "            ylabel='Actual Default')\n",
    "accuracy = (cart_cm[0,0]+cart_cm[1,1])/sum(sum(cart_cm))\n",
    "precision = (cart_cm[1,1])/(cart_cm[1,1]+cart_cm[0,1])\n",
    "recall = (cart_cm[1,1])/(cart_cm[1,1]+cart_cm[1,0])\n",
    "result_df1 = pd.DataFrame({'Model':\"CART\", \"Accuracy\": accuracy,\"Precision\": precision, \"Recall\": recall},index=[0])\n",
    "print(\"The accuracy of the model is: \"+ str(round(accuracy*100,2))+ \"%\")"
   ]
  },
  {
   "cell_type": "markdown",
   "metadata": {},
   "source": [
    "## 5.5 Export the model using joblib"
   ]
  },
  {
   "cell_type": "code",
   "execution_count": 23,
   "metadata": {},
   "outputs": [
    {
     "data": {
      "text/plain": [
       "['cart_model']"
      ]
     },
     "execution_count": 23,
     "metadata": {},
     "output_type": "execute_result"
    }
   ],
   "source": [
    "import joblib\n",
    "joblib.dump(cart_model, \"cart_model\")"
   ]
  },
  {
   "cell_type": "markdown",
   "metadata": {},
   "source": [
    "# 6. Random Forest Model"
   ]
  },
  {
   "cell_type": "markdown",
   "metadata": {},
   "source": [
    "## 6.1 Optimise parameters for Random Forest using GridSearchCV\n",
    "Tried to optimise max_depth and min_samples_split for Random Forest model using GridSearchCV. \n",
    "Obtain the optimal value for this 2 parameters will try to prune the trees and avoid overfitting issues"
   ]
  },
  {
   "cell_type": "code",
   "execution_count": 24,
   "metadata": {},
   "outputs": [],
   "source": [
    "import math\n",
    "from sklearn.model_selection import GridSearchCV\n",
    "from sklearn.ensemble import RandomForestRegressor\n",
    "\n",
    "model = RandomForestRegressor(random_state = 10)\n",
    "grid = GridSearchCV(estimator = model, param_grid = dict(max_depth = [i for i in range(1, 20)]))\n",
    "r= grid.fit(X_train1, Y_train1)\n",
    "max_depth = r.best_params_['max_depth']\n",
    "\n",
    "model = RandomForestRegressor(max_depth= max_depth, random_state = 10)\n",
    "grid = GridSearchCV(estimator = model, param_grid = dict( min_samples_split = [i for i in range(3, 20)]))\n",
    "grid_results = grid.fit(X_train1, Y_train1)\n",
    "min_split = grid_results.best_params_['min_samples_split']"
   ]
  },
  {
   "cell_type": "markdown",
   "metadata": {},
   "source": [
    "## 6.2 Train model with optimal parameters"
   ]
  },
  {
   "cell_type": "code",
   "execution_count": 25,
   "metadata": {},
   "outputs": [],
   "source": [
    "rf_model = RandomForestRegressor(max_depth=max_depth,min_samples_split = min_split)\n",
    "rf_model.fit(x_train, y_train)\n",
    "rf_pred = rf_model.predict(x_test)"
   ]
  },
  {
   "cell_type": "markdown",
   "metadata": {},
   "source": [
    "## 6.3 Classify the predicted outcome based on a Threshold and predicted probability"
   ]
  },
  {
   "cell_type": "code",
   "execution_count": 26,
   "metadata": {},
   "outputs": [],
   "source": [
    "rf_pred1 = []\n",
    "threshold = 0.5\n",
    "for i in rf_pred:\n",
    "    if i > 0.5:\n",
    "        a = \"1\"\n",
    "    else:\n",
    "        a = \"0\"\n",
    "    rf_pred1.append(a)"
   ]
  },
  {
   "cell_type": "markdown",
   "metadata": {},
   "source": [
    "## 6.4 Random Forest Accuracy and Confusion Matrix on Test Set"
   ]
  },
  {
   "cell_type": "code",
   "execution_count": 27,
   "metadata": {},
   "outputs": [
    {
     "name": "stdout",
     "output_type": "stream",
     "text": [
      "The accuracy of the model is: 99.22%\n"
     ]
    },
    {
     "data": {
      "image/png": "[encoded data removed]",
      "text/plain": [
       "<matplotlib.figure.Figure at 0x24a7084ba20>"
      ]
     },
     "metadata": {},
     "output_type": "display_data"
    }
   ],
   "source": [
    "rf_cm = confusion_matrix(y_test, rf_pred1,normalize = 'all')\n",
    "cmd = ConfusionMatrixDisplay(rf_cm, display_labels=['No','Yes'])\n",
    "cmd.plot()\n",
    "cmd.ax_.set(title='Confusion Matrix for Random Forest', \n",
    "            xlabel='Predicted Default', \n",
    "            ylabel='Actual Default')\n",
    "accuracy = (rf_cm[0,0]+rf_cm[1,1])/sum(sum(rf_cm))\n",
    "precision = (rf_cm[1,1])/(rf_cm[1,1]+rf_cm[0,1])\n",
    "recall = (rf_cm[1,1])/(rf_cm[1,1]+rf_cm[1,0])\n",
    "result_df2 = pd.DataFrame({'Model':\"Random Forest\", \"Accuracy\": accuracy,\"Precision\": precision, \"Recall\": recall},index=[0])\n",
    "print(\"The accuracy of the model is: \"+ str(round(accuracy*100,2))+ \"%\")"
   ]
  },
  {
   "cell_type": "markdown",
   "metadata": {},
   "source": [
    "## 6.5 Export the model using joblib"
   ]
  },
  {
   "cell_type": "code",
   "execution_count": 28,
   "metadata": {},
   "outputs": [
    {
     "data": {
      "text/plain": [
       "['rf_model']"
      ]
     },
     "execution_count": 28,
     "metadata": {},
     "output_type": "execute_result"
    }
   ],
   "source": [
    "import joblib\n",
    "joblib.dump(rf_model, \"rf_model\")"
   ]
  },
  {
   "cell_type": "markdown",
   "metadata": {},
   "source": [
    "# 7. XGBoost"
   ]
  },
  {
   "cell_type": "markdown",
   "metadata": {},
   "source": [
    "## 7.1 Optimise parameters for XGBoost using GridSearchCV\n",
    "Tried to optimise max_depth and min_samples_split for XGBoost model using GridSearchCV. \n",
    "Obtain the optimal value for this 2 parameters will try to prune the trees and avoid overfitting issues"
   ]
  },
  {
   "cell_type": "code",
   "execution_count": 29,
   "metadata": {},
   "outputs": [],
   "source": [
    "from sklearn.ensemble import GradientBoostingRegressor\n",
    "import math\n",
    "from sklearn.model_selection import GridSearchCV\n",
    "\n",
    "model = GradientBoostingRegressor(random_state = 10)\n",
    "grid = GridSearchCV(estimator = model, param_grid = dict(max_depth = [i for i in range(1, 20)]))\n",
    "r= grid.fit(X_train1, Y_train1)\n",
    "max_depth = r.best_params_['max_depth']\n",
    "\n",
    "model = GradientBoostingRegressor(max_depth= max_depth, random_state = 10)\n",
    "grid = GridSearchCV(estimator = model, param_grid = dict( min_samples_split = [i for i in range(3, 20)]))\n",
    "grid_results = grid.fit(X_train1, Y_train1)\n",
    "min_split = grid_results.best_params_['min_samples_split']"
   ]
  },
  {
   "cell_type": "markdown",
   "metadata": {},
   "source": [
    "## 7.2 Train model with optimal parameters"
   ]
  },
  {
   "cell_type": "code",
   "execution_count": 30,
   "metadata": {},
   "outputs": [],
   "source": [
    "XGB_model = GradientBoostingRegressor(max_depth=max_depth, min_samples_split = min_split)\n",
    "XGB_model.fit(x_train, y_train)\n",
    "XGB_pred = XGB_model.predict(x_test)"
   ]
  },
  {
   "cell_type": "markdown",
   "metadata": {},
   "source": [
    "## 7.3 Classify the predicted outcome based on a Threshold and predicted probability"
   ]
  },
  {
   "cell_type": "code",
   "execution_count": 31,
   "metadata": {},
   "outputs": [],
   "source": [
    "XGB_pred1 = []\n",
    "threshold = 0.5\n",
    "for i in XGB_pred:\n",
    "    if i > threshold:\n",
    "        a = \"1\"\n",
    "    else:\n",
    "        a = \"0\"\n",
    "    XGB_pred1.append(a)"
   ]
  },
  {
   "cell_type": "markdown",
   "metadata": {},
   "source": [
    "## 7.4 XGBoost Accuracy and Confusion Matrix on Test Set"
   ]
  },
  {
   "cell_type": "code",
   "execution_count": 32,
   "metadata": {},
   "outputs": [
    {
     "name": "stdout",
     "output_type": "stream",
     "text": [
      "The accuracy of the model is: 99.03%\n"
     ]
    },
    {
     "data": {
      "image/png": "[encoded data removed]",
      "text/plain": [
       "<matplotlib.figure.Figure at 0x24a707ee710>"
      ]
     },
     "metadata": {},
     "output_type": "display_data"
    }
   ],
   "source": [
    "xgb_cm = confusion_matrix(y_test, XGB_pred1,normalize = 'all')\n",
    "cmd = ConfusionMatrixDisplay(xgb_cm, display_labels=['No','Yes'])\n",
    "cmd.plot()\n",
    "cmd.ax_.set(title='Confusion Matrix for XGBoost', \n",
    "            xlabel='Predicted Default', \n",
    "            ylabel='Actual Default')\n",
    "accuracy = (xgb_cm[0,0]+xgb_cm[1,1])/sum(sum(xgb_cm))\n",
    "precision = (xgb_cm[1,1])/(xgb_cm[1,1]+xgb_cm[0,1])\n",
    "recall = (xgb_cm[1,1])/(xgb_cm[1,1]+xgb_cm[1,0])\n",
    "result_df3 = pd.DataFrame({'Model':\"XGBoost\", \"Accuracy\": accuracy,\"Precision\": precision, \"Recall\": recall},index=[0])\n",
    "print(\"The accuracy of the model is: \"+ str(round(accuracy*100,2))+ \"%\")"
   ]
  },
  {
   "cell_type": "markdown",
   "metadata": {},
   "source": [
    "## 7.5 Export the model using joblib"
   ]
  },
  {
   "cell_type": "code",
   "execution_count": 33,
   "metadata": {},
   "outputs": [
    {
     "data": {
      "text/plain": [
       "['XGB_model']"
      ]
     },
     "execution_count": 33,
     "metadata": {},
     "output_type": "execute_result"
    }
   ],
   "source": [
    "import joblib\n",
    "joblib.dump(XGB_model, \"XGB_model\")"
   ]
  },
  {
   "cell_type": "markdown",
   "metadata": {},
   "source": [
    "# 8 Neural Network MLP"
   ]
  },
  {
   "cell_type": "code",
   "execution_count": 34,
   "metadata": {},
   "outputs": [],
   "source": [
    "from sklearn.neural_network import MLPClassifier\n",
    "from sklearn.model_selection import GridSearchCV"
   ]
  },
  {
   "cell_type": "markdown",
   "metadata": {},
   "source": [
    "## 8.1 Normalisation of data\n",
    "Normalizing the data generally help to speeds up learning and leads to faster convergence for neural network models"
   ]
  },
  {
   "cell_type": "code",
   "execution_count": 35,
   "metadata": {},
   "outputs": [],
   "source": [
    "X['Norm_income'] = (X['income'] - min(X['income']))/(max(X['income'])-min(X['income']))\n",
    "X['Norm_age'] = (X['age'] - min(X['age']))/(max(X['age'])-min(X['age']))\n",
    "X['Norm_loan'] = (X['loan'] - min(X['loan']))/(max(X['loan'])-min(X['loan']))\n",
    "\n",
    "norm_X = X.loc[:,['Norm_income','Norm_age','Norm_loan']]"
   ]
  },
  {
   "cell_type": "markdown",
   "metadata": {},
   "source": [
    "## 8.2 Train-Test split based on the normalize X\n",
    "Split the data into a train (70%) and test (30%) sets where the random_state(set seed) is set to 10."
   ]
  },
  {
   "cell_type": "code",
   "execution_count": 36,
   "metadata": {},
   "outputs": [],
   "source": [
    "from sklearn.model_selection import train_test_split\n",
    "x_train, x_test, y_train, y_test = train_test_split(norm_X, Y, test_size=0.3, random_state=10)"
   ]
  },
  {
   "cell_type": "markdown",
   "metadata": {},
   "source": [
    "## 8.3 Find the best parameter for MLP \n",
    "Tried to find the best hidden_layer_sizes and activation function for MLP model using GridSearchCV. "
   ]
  },
  {
   "cell_type": "code",
   "execution_count": 37,
   "metadata": {},
   "outputs": [
    {
     "data": {
      "text/plain": [
       "{'activation': 'tanh', 'hidden_layer_sizes': (25, 25)}"
      ]
     },
     "execution_count": 37,
     "metadata": {},
     "output_type": "execute_result"
    }
   ],
   "source": [
    "from sklearn.neural_network import MLPClassifier\n",
    "from sklearn.model_selection import GridSearchCV\n",
    "\n",
    "model = MLPClassifier(solver = \"lbfgs\", random_state=10,max_iter = 500)\n",
    "parameter_space = {\n",
    "    'hidden_layer_sizes': [(50,50), (25,25), (50)],\n",
    "    'activation': ['tanh', 'relu']\n",
    "}\n",
    "grid = GridSearchCV(estimator = model, param_grid = parameter_space)\n",
    "r= grid.fit(x_train, y_train)\n",
    "r.best_params_"
   ]
  },
  {
   "cell_type": "markdown",
   "metadata": {},
   "source": [
    "## 8.4 Train the MLP Model with train set"
   ]
  },
  {
   "cell_type": "code",
   "execution_count": 38,
   "metadata": {},
   "outputs": [],
   "source": [
    "MLP_model = MLPClassifier(solver = \"lbfgs\", \n",
    "                          hidden_layer_sizes = r.best_params_['hidden_layer_sizes'], \n",
    "                          activation = r.best_params_['activation'],\n",
    "                          random_state=10)\n",
    "MLP_model.fit(x_train, y_train)\n",
    "MLP_pred = MLP_model.predict(x_test)"
   ]
  },
  {
   "cell_type": "markdown",
   "metadata": {},
   "source": [
    "## 8.5 MLP Accuracy and Confusion Matrix on Test Set"
   ]
  },
  {
   "cell_type": "code",
   "execution_count": 39,
   "metadata": {},
   "outputs": [
    {
     "name": "stdout",
     "output_type": "stream",
     "text": [
      "The accuracy of the model is: 99.81%\n"
     ]
    },
    {
     "data": {
      "image/png": "[encoded data removed]",
      "text/plain": [
       "<matplotlib.figure.Figure at 0x24a71937a20>"
      ]
     },
     "metadata": {},
     "output_type": "display_data"
    }
   ],
   "source": [
    "mlp_cm = confusion_matrix(y_test, MLP_pred, normalize = 'all')\n",
    "cmd = ConfusionMatrixDisplay(mlp_cm, display_labels=['No','Yes'])\n",
    "cmd.plot()\n",
    "cmd.ax_.set(title='Confusion Matrix for MLP', \n",
    "            xlabel='Predicted Default', \n",
    "            ylabel='Actual Default')\n",
    "accuracy = (mlp_cm[0,0]+mlp_cm[1,1])/sum(sum(mlp_cm))\n",
    "precision = (mlp_cm[1,1])/(mlp_cm[1,1]+mlp_cm[0,1])\n",
    "recall = (mlp_cm[1,1])/(mlp_cm[1,1]+mlp_cm[1,0])\n",
    "result_df4 = pd.DataFrame({'Model':\"MLP\", \"Accuracy\": accuracy,\"Precision\": precision, \"Recall\": recall},index=[0])\n",
    "print(\"The accuracy of the model is: \"+ str(round(accuracy*100,2))+ \"%\")"
   ]
  },
  {
   "cell_type": "markdown",
   "metadata": {},
   "source": [
    "## 8.6 Export the model using joblib"
   ]
  },
  {
   "cell_type": "code",
   "execution_count": 40,
   "metadata": {},
   "outputs": [
    {
     "data": {
      "text/plain": [
       "['MLP_model']"
      ]
     },
     "execution_count": 40,
     "metadata": {},
     "output_type": "execute_result"
    }
   ],
   "source": [
    "import joblib\n",
    "joblib.dump(MLP_model, \"MLP_model\")"
   ]
  },
  {
   "cell_type": "markdown",
   "metadata": {},
   "source": [
    "# 9. Conclusion\n",
    "Below is a Chart showing the different measurement for different models in descending order based on accuracy score.\n",
    "\n",
    "## 9.1 Analysis of Models\n",
    "The nature of a credit card default analysis would require a model with high recall. Recall is a good measure to use when the cost of False Negative is high. In this case, there is high cost associated with the bank if a default credit card is predicted as non-default. Thus, we will focus on having a model with the highest recall score as compared to precision and accuracy.\n",
    "\n",
    "Out of the 5 models, Random Forest the highest recall score of 100% and second highest accuracy score of 99.41%. This means that the model is able to minimize False Negative predictions, helping the company to minimize risks and losses arising from credit card defaults.\n",
    "\n",
    "Although MLP has the highest accuracy score of 99.81%, it has a lower recall score of 99.61% than Random Forest. Furthermore, MLP is a “black box” which means it is harder to gain insights from the X and Y variables. On the other hand, it is easier to gain insights of the X and Y variables from the other 4 models (through the coefficients of X in Regression and variable importance in Decision Tree models).\n",
    "\n",
    "In short, based on the dataset given, I would recommend Random Forest to predict the credit card defaults of customers due to its high recall and ability to generate useful insights from the input variables.\n"
   ]
  },
  {
   "cell_type": "code",
   "execution_count": 41,
   "metadata": {},
   "outputs": [
    {
     "data": {
      "text/html": [
       "<div>\n",
       "<style scoped>\n",
       "    .dataframe tbody tr th:only-of-type {\n",
       "        vertical-align: middle;\n",
       "    }\n",
       "\n",
       "    .dataframe tbody tr th {\n",
       "        vertical-align: top;\n",
       "    }\n",
       "\n",
       "    .dataframe thead th {\n",
       "        text-align: right;\n",
       "    }\n",
       "</style>\n",
       "<table border=\"1\" class=\"dataframe\">\n",
       "  <thead>\n",
       "    <tr style=\"text-align: right;\">\n",
       "      <th></th>\n",
       "      <th>Model</th>\n",
       "      <th>Accuracy</th>\n",
       "      <th>Precision</th>\n",
       "      <th>Recall</th>\n",
       "    </tr>\n",
       "  </thead>\n",
       "  <tbody>\n",
       "    <tr>\n",
       "      <th>4</th>\n",
       "      <td>MLP</td>\n",
       "      <td>0.998056</td>\n",
       "      <td>1.000000</td>\n",
       "      <td>0.996132</td>\n",
       "    </tr>\n",
       "    <tr>\n",
       "      <th>2</th>\n",
       "      <td>Random Forest</td>\n",
       "      <td>0.992225</td>\n",
       "      <td>0.984762</td>\n",
       "      <td>1.000000</td>\n",
       "    </tr>\n",
       "    <tr>\n",
       "      <th>3</th>\n",
       "      <td>XGBoost</td>\n",
       "      <td>0.990282</td>\n",
       "      <td>0.988439</td>\n",
       "      <td>0.992263</td>\n",
       "    </tr>\n",
       "    <tr>\n",
       "      <th>1</th>\n",
       "      <td>CART</td>\n",
       "      <td>0.986395</td>\n",
       "      <td>0.988350</td>\n",
       "      <td>0.984526</td>\n",
       "    </tr>\n",
       "    <tr>\n",
       "      <th>0</th>\n",
       "      <td>Log Regression</td>\n",
       "      <td>0.846453</td>\n",
       "      <td>0.876310</td>\n",
       "      <td>0.808511</td>\n",
       "    </tr>\n",
       "  </tbody>\n",
       "</table>\n",
       "</div>"
      ],
      "text/plain": [
       "            Model  Accuracy  Precision    Recall\n",
       "4             MLP  0.998056   1.000000  0.996132\n",
       "2   Random Forest  0.992225   0.984762  1.000000\n",
       "3         XGBoost  0.990282   0.988439  0.992263\n",
       "1            CART  0.986395   0.988350  0.984526\n",
       "0  Log Regression  0.846453   0.876310  0.808511"
      ]
     },
     "execution_count": 41,
     "metadata": {},
     "output_type": "execute_result"
    },
    {
     "data": {
      "image/png": "[encoded data removed]",
      "text/plain": [
       "<matplotlib.figure.Figure at 0x24a7082b668>"
      ]
     },
     "metadata": {},
     "output_type": "display_data"
    }
   ],
   "source": [
    "results = result_df.append([result_df1,result_df2,result_df3,result_df4], ignore_index = True)\n",
    "results = results.sort_values('Accuracy',ascending=False)\n",
    "column_names = [\"Model\",\"Accuracy\",\"Precision\",\"Recall\"]\n",
    "results = results.reindex(columns=column_names)\n",
    "tidy = results.melt(id_vars='Model').rename(columns=str.title)\n",
    "\n",
    "import seaborn as sns\n",
    "import matplotlib.pyplot as plt\n",
    "ax = sns.barplot(data = tidy, x = \"Model\", y = \"Value\", hue = \"Variable\")\n",
    "ax.set(ylim=(0.8, 1.0))\n",
    "plt.legend(bbox_to_anchor=(1.05, 1), loc=2, borderaxespad=0.)\n",
    "results\n",
    "#print(results.to_string(index=False))"
   ]
  }
 ],
 "metadata": {
  "kernelspec": {
   "display_name": "Python 3 (ipykernel)",
   "language": "python",
   "name": "python3"
  },
  "language_info": {
   "codemirror_mode": {
    "name": "ipython",
    "version": 3
   },
   "file_extension": ".py",
   "mimetype": "text/x-python",
   "name": "python",
   "nbconvert_exporter": "python",
   "pygments_lexer": "ipython3",
   "version": "3.9.7"
  }
 },
 "nbformat": 4,
 "nbformat_minor": 2
}
